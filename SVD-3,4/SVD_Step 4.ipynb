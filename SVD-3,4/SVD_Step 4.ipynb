{
 "cells": [
  {
   "cell_type": "code",
   "execution_count": 1,
   "id": "1e453b03-8fa6-43ad-ac77-48474983e1bc",
   "metadata": {},
   "outputs": [
    {
     "name": "stdout",
     "output_type": "stream",
     "text": [
      "✅ SVD applied successfully! CSV files generated:\n",
      "   - 'U_matrix.csv' (User embeddings)\n",
      "   - 'Sigma_matrix.csv' (Singular values)\n",
      "   - 'Vt_matrix.csv' (Item embeddings)\n"
     ]
    }
   ],
   "source": [
    "import pandas as pd\n",
    "import numpy as np\n",
    "from sklearn.decomposition import TruncatedSVD\n",
    "train_matrix = pd.read_csv(\"train_matrix (1).csv\", index_col=0)\n",
    "matrix = train_matrix.to_numpy()\n",
    "n_components = min(50, matrix.shape[1])  \n",
    "\n",
    "# Apply SVD\n",
    "svd = TruncatedSVD(n_components=n_components, random_state=42)\n",
    "U = svd.fit_transform(matrix)\n",
    "Sigma = svd.singular_values_\n",
    "Vt = svd.components_\n",
    "U_df = pd.DataFrame(U, index=train_matrix.index)  \n",
    "Sigma_df = pd.DataFrame(np.diag(Sigma))  \n",
    "Vt_df = pd.DataFrame(Vt, columns=train_matrix.columns) \n",
    "\n",
    "# Save to CSV files\n",
    "U_df.to_csv(\"U_matrix.csv\", index=True)\n",
    "Sigma_df.to_csv(\"Sigma_matrix.csv\", index=False)\n",
    "Vt_df.to_csv(\"Vt_matrix.csv\", index=False)\n",
    "\n",
    "print(\"✅ SVD applied successfully! CSV files generated:\")\n",
    "print(\"   - 'U_matrix.csv' (User embeddings)\")\n",
    "print(\"   - 'Sigma_matrix.csv' (Singular values)\")\n",
    "print(\"   - 'Vt_matrix.csv' (Item embeddings)\")\n"
   ]
  },
  {
   "cell_type": "code",
   "execution_count": null,
   "id": "6914ab01-5ded-457e-85a8-25fcb6ee6b2f",
   "metadata": {},
   "outputs": [],
   "source": []
  }
 ],
 "metadata": {
  "kernelspec": {
   "display_name": "Python 3 (ipykernel)",
   "language": "python",
   "name": "python3"
  },
  "language_info": {
   "codemirror_mode": {
    "name": "ipython",
    "version": 3
   },
   "file_extension": ".py",
   "mimetype": "text/x-python",
   "name": "python",
   "nbconvert_exporter": "python",
   "pygments_lexer": "ipython3",
   "version": "3.13.1"
  }
 },
 "nbformat": 4,
 "nbformat_minor": 5
}
