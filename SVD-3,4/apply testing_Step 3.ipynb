{
 "cells": [
  {
   "cell_type": "code",
   "execution_count": 1,
   "id": "ccffe52c-7263-4c13-b491-76f67ce32e1f",
   "metadata": {},
   "outputs": [
    {
     "name": "stdout",
     "output_type": "stream",
     "text": [
      "Filtered test dataset saved as 'filtered_test_matrix.csv'.\n"
     ]
    }
   ],
   "source": [
    "import pandas as pd\n",
    "train_file = \"train_matrix (1).csv\"\n",
    "test_file = \"test_matrix (1).csv\"\n",
    "train_df = pd.read_csv(train_file)\n",
    "test_df = pd.read_csv(test_file)\n",
    "train_users = set(train_df[\"User ID\"])\n",
    "train_items = set(train_df[\"Item ID\"])\n",
    "\n",
    "filtered_test_df = test_df[\n",
    "    (test_df[\"User ID\"].isin(train_users)) & \n",
    "    (test_df[\"Item ID\"].isin(train_items))\n",
    "]\n",
    "\n",
    "filtered_test_file = \"filtered_test_matrix.csv\"\n",
    "filtered_test_df.to_csv(filtered_test_file, index=False)\n",
    "\n",
    "print(f\"Filtered test dataset saved as '{filtered_test_file}'.\")\n"
   ]
  },
  {
   "cell_type": "code",
   "execution_count": null,
   "id": "c2a39dd2-1261-4e1d-8e0d-4fc200cfeff3",
   "metadata": {},
   "outputs": [],
   "source": []
  }
 ],
 "metadata": {
  "kernelspec": {
   "display_name": "Python 3 (ipykernel)",
   "language": "python",
   "name": "python3"
  },
  "language_info": {
   "codemirror_mode": {
    "name": "ipython",
    "version": 3
   },
   "file_extension": ".py",
   "mimetype": "text/x-python",
   "name": "python",
   "nbconvert_exporter": "python",
   "pygments_lexer": "ipython3",
   "version": "3.13.1"
  }
 },
 "nbformat": 4,
 "nbformat_minor": 5
}
