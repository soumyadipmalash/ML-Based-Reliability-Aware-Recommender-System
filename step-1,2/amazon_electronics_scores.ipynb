{
 "cells": [
  {
   "cell_type": "code",
   "execution_count": 3,
   "id": "7afcad8d",
   "metadata": {},
   "outputs": [
    {
     "name": "stdout",
     "output_type": "stream",
     "text": [
      "Data saved to amazon_electronics_scores.csv\n"
     ]
    }
   ],
   "source": [
    "import json\n",
    "import pandas as pd\n",
    "\n",
    "def load_json(file_path):\n",
    "    records = []\n",
    "    with open(file_path, 'r', encoding='utf-8') as f:\n",
    "        for line in f:\n",
    "            try:\n",
    "                records.append(json.loads(line))\n",
    "            except json.JSONDecodeError:\n",
    "                continue\n",
    "    return records\n",
    "\n",
    "def compute_scores(records):\n",
    "    user_item_scores = []\n",
    "    for record in records:\n",
    "        user_id = record.get(\"reviewerID\", \"\")\n",
    "        item_id = record.get(\"asin\", \"\")\n",
    "        helpful_votes, total_votes = record.get(\"helpful\", [0, 0])\n",
    "        b_ij = (helpful_votes ** 2) / total_votes if total_votes > 0 else 0\n",
    "        user_item_scores.append((user_id, item_id, b_ij))\n",
    "    return user_item_scores\n",
    "\n",
    "def normalize_scores(user_item_scores):\n",
    "    df = pd.DataFrame(user_item_scores, columns=[\"User ID\", \"Item ID\", \"b_ij\"])\n",
    "    df[\"h_ij\"] = df.groupby(\"Item ID\")[\"b_ij\"].transform(lambda x: x / x.sum())\n",
    "    df[\"z_ij\"] = df.groupby(\"Item ID\").cumcount(ascending=False).apply(lambda x: sum(1 / (e**2) for e in range(1, x+2)))\n",
    "    df[\"most_ij\"] = df.groupby(\"Item ID\")[\"z_ij\"].transform(lambda x: x / x.sum())\n",
    "    df[\"q_ij\"] = (1 / (df.groupby(\"User ID\").cumcount() + 1)) * df.groupby(\"Item ID\").cumcount(ascending=False)\n",
    "    df[\"top_ij\"] = df.groupby(\"Item ID\")[\"q_ij\"].transform(lambda x: x / x.sum())\n",
    "    alpha = 0.5\n",
    "    df[\"d_ij\"] = alpha * df[\"top_ij\"] + (1 - alpha) * df[\"most_ij\"]\n",
    "    df[\"avg_score\"] = (df[\"h_ij\"] + df[\"d_ij\"]) / 2\n",
    "    df[\"avg_score\"] = df[\"avg_score\"].clip(0, 1)\n",
    "    return df[[\"User ID\", \"Item ID\", \"h_ij\", \"d_ij\", \"avg_score\"]]\n",
    "\n",
    "def handle_missing_values(df):\n",
    "\n",
    "    h_ij_mean = df[df['h_ij'] != 0]['h_ij'].mean()\n",
    "    df['h_ij'] = df['h_ij'].replace(0, h_ij_mean)\n",
    "\n",
    "    avg_score_mean = df[df['avg_score'] != 0]['avg_score'].mean()\n",
    "    df['avg_score'] = df['avg_score'].replace(0, avg_score_mean)\n",
    "\n",
    "    return df\n",
    "file_path = r\"D:\\6TH SEMESTER\\miniProject\\Electronics_5.json\\Electronics_5.json\"\n",
    "records = load_json(file_path)\n",
    "user_item_scores = compute_scores(records)\n",
    "normalized_scores = normalize_scores(user_item_scores)\n",
    "\n",
    "normalized_scores = handle_missing_values(normalized_scores)\n",
    "\n",
    "\n",
    "output_csv = \"amazon_electronics_scores.csv\"\n",
    "normalized_scores.to_csv(output_csv, index=False)\n",
    "\n",
    "print(f\"Data saved to {output_csv}\")"
   ]
  },
  {
   "cell_type": "code",
   "execution_count": null,
   "id": "33f1d653",
   "metadata": {},
   "outputs": [],
   "source": [
    "import shutil\n",
    "\n",
    "old_path = \"amazon_electronics_scores.ipynb\"  # Ensure this is the correct current path\n",
    "new_path = r\"D:\\6TH SEMESTER\\miniProject\\amazon_electronics_scores.ipynb\"\n",
    "\n",
    "shutil.move(old_path, new_path)\n",
    "print(f\"Notebook moved to {new_path}\")\n"
   ]
  }
 ],
 "metadata": {
  "kernelspec": {
   "display_name": "Python 3 (ipykernel)",
   "language": "python",
   "name": "python3"
  },
  "language_info": {
   "codemirror_mode": {
    "name": "ipython",
    "version": 3
   },
   "file_extension": ".py",
   "mimetype": "text/x-python",
   "name": "python",
   "nbconvert_exporter": "python",
   "pygments_lexer": "ipython3",
   "version": "3.10.9"
  }
 },
 "nbformat": 4,
 "nbformat_minor": 5
}
