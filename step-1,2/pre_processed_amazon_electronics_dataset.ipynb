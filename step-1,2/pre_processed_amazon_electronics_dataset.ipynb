{
 "cells": [
  {
   "cell_type": "code",
   "execution_count": 6,
   "id": "7afcad8d",
   "metadata": {},
   "outputs": [
    {
     "name": "stdout",
     "output_type": "stream",
     "text": [
      "          User ID     Item ID      h_ij      d_ij  avg_score\n",
      "0   AO94DHGC771SJ  0528881469  0.000000  0.312614   0.156307\n",
      "1   AMO214LNFCEI4  0528881469  0.163296  0.259537   0.211416\n",
      "2  A3N7T0DY83Y4IG  0528881469  0.698923  0.204728   0.451825\n",
      "3  A1H8PY3QHMQQA0  0528881469  0.137781  0.146179   0.141980\n",
      "4  A24EV6RXELQZ63  0528881469  0.000000  0.076943   0.038471\n",
      "<class 'pandas.core.frame.DataFrame'>\n",
      "RangeIndex: 1048575 entries, 0 to 1048574\n",
      "Data columns (total 5 columns):\n",
      " #   Column     Non-Null Count    Dtype  \n",
      "---  ------     --------------    -----  \n",
      " 0   User ID    1048575 non-null  object \n",
      " 1   Item ID    1048575 non-null  object \n",
      " 2   h_ij       1038246 non-null  float64\n",
      " 3   d_ij       1048575 non-null  float64\n",
      " 4   avg_score  1038246 non-null  float64\n",
      "dtypes: float64(3), object(2)\n",
      "memory usage: 40.0+ MB\n",
      "None\n",
      "Missing values:\n",
      "User ID          0\n",
      "Item ID          0\n",
      "h_ij         10329\n",
      "d_ij             0\n",
      "avg_score    10329\n",
      "dtype: int64\n",
      "   User ID  Item ID      h_ij      d_ij  avg_score\n",
      "0   171885        0  0.000000  0.537095   0.200584\n",
      "1   169670        0  0.163296  0.445882   0.271320\n",
      "2   131333        0  0.698923  0.351694   0.579901\n",
      "3    23901        0  0.137781  0.251079   0.182193\n",
      "4    56062        0  0.000000  0.132098   0.049333\n",
      "<class 'pandas.core.frame.DataFrame'>\n",
      "RangeIndex: 1048575 entries, 0 to 1048574\n",
      "Data columns (total 5 columns):\n",
      " #   Column     Non-Null Count    Dtype  \n",
      "---  ------     --------------    -----  \n",
      " 0   User ID    1048575 non-null  int32  \n",
      " 1   Item ID    1048575 non-null  int32  \n",
      " 2   h_ij       1048575 non-null  float64\n",
      " 3   d_ij       1048575 non-null  float64\n",
      " 4   avg_score  1048575 non-null  float64\n",
      "dtypes: float64(3), int32(2)\n",
      "memory usage: 32.0 MB\n",
      "None\n",
      "Missing values:\n",
      "User ID      0\n",
      "Item ID      0\n",
      "h_ij         0\n",
      "d_ij         0\n",
      "avg_score    0\n",
      "dtype: int64\n",
      "Preprocessed data saved to: D:\\6TH SEMESTER\\miniProject\\amazon_electronics_preprocessed_scores.csv\n"
     ]
    }
   ],
   "source": [
    "import pandas as pd\n",
    "from sklearn.preprocessing import LabelEncoder, MinMaxScaler\n",
    "\n",
    "# Load CSV file with proper dtype handling\n",
    "file_path = r\"D:\\6TH SEMESTER\\miniProject\\amazon_electronics_scores.csv\"\n",
    "df = pd.read_csv(file_path, dtype={\"h_ij\": \"str\"}, low_memory=False)\n",
    "\n",
    "# Convert 'h_ij' to numeric\n",
    "df['h_ij'] = pd.to_numeric(df['h_ij'], errors='coerce')\n",
    "\n",
    "# Display initial info\n",
    "def explore_data(df):\n",
    "    print(df.head())\n",
    "    print(df.info())\n",
    "    print(\"Missing values:\")\n",
    "    print(df.isnull().sum())\n",
    "\n",
    "explore_data(df)\n",
    "\n",
    "# Handle missing values by filling with median\n",
    "df['h_ij'].fillna(df['h_ij'].median(), inplace=True)\n",
    "df['avg_score'].fillna(df['avg_score'].median(), inplace=True)\n",
    "\n",
    "# Encode categorical features (User ID, Item ID)\n",
    "le_user = LabelEncoder()\n",
    "le_item = LabelEncoder()\n",
    "df['User ID'] = le_user.fit_transform(df['User ID'])\n",
    "df['Item ID'] = le_item.fit_transform(df['Item ID'])\n",
    "\n",
    "# Normalize numerical features\n",
    "scaler = MinMaxScaler()\n",
    "df[['h_ij', 'd_ij', 'avg_score']] = scaler.fit_transform(df[['h_ij', 'd_ij', 'avg_score']])\n",
    "\n",
    "# Display final info after preprocessing\n",
    "explore_data(df)\n",
    "\n",
    "# Save preprocessed dataset\n",
    "processed_file_path =r\"D:\\6TH SEMESTER\\miniProject\\amazon_electronics_preprocessed_scores.csv\"\n",
    "df.to_csv(processed_file_path, index=False)\n",
    "print(f\"Preprocessed data saved to: {processed_file_path}\")\n"
   ]
  },
  {
   "cell_type": "code",
   "execution_count": 2,
   "id": "33f1d653",
   "metadata": {},
   "outputs": [
    {
     "ename": "FileNotFoundError",
     "evalue": "[Errno 2] No such file or directory: 'pre_processed_amazon_electronics_scores.ipynb'",
     "output_type": "error",
     "traceback": [
      "\u001b[1;31m---------------------------------------------------------------------------\u001b[0m",
      "\u001b[1;31mFileNotFoundError\u001b[0m                         Traceback (most recent call last)",
      "File \u001b[1;32m~\\anaconda3\\lib\\shutil.py:816\u001b[0m, in \u001b[0;36mmove\u001b[1;34m(src, dst, copy_function)\u001b[0m\n\u001b[0;32m    815\u001b[0m \u001b[38;5;28;01mtry\u001b[39;00m:\n\u001b[1;32m--> 816\u001b[0m     \u001b[43mos\u001b[49m\u001b[38;5;241;43m.\u001b[39;49m\u001b[43mrename\u001b[49m\u001b[43m(\u001b[49m\u001b[43msrc\u001b[49m\u001b[43m,\u001b[49m\u001b[43m \u001b[49m\u001b[43mreal_dst\u001b[49m\u001b[43m)\u001b[49m\n\u001b[0;32m    817\u001b[0m \u001b[38;5;28;01mexcept\u001b[39;00m \u001b[38;5;167;01mOSError\u001b[39;00m:\n",
      "\u001b[1;31mFileNotFoundError\u001b[0m: [WinError 2] The system cannot find the file specified: 'pre_processed_amazon_electronics_scores.ipynb' -> 'D:\\\\6TH SEMESTER\\\\miniProject\\\\pre_processed_amazon_electronics_scores.ipynb'",
      "\nDuring handling of the above exception, another exception occurred:\n",
      "\u001b[1;31mFileNotFoundError\u001b[0m                         Traceback (most recent call last)",
      "Cell \u001b[1;32mIn[2], line 6\u001b[0m\n\u001b[0;32m      3\u001b[0m old_path \u001b[38;5;241m=\u001b[39m \u001b[38;5;124m\"\u001b[39m\u001b[38;5;124mpre_processed_amazon_electronics_scores.ipynb\u001b[39m\u001b[38;5;124m\"\u001b[39m  \n\u001b[0;32m      4\u001b[0m new_path \u001b[38;5;241m=\u001b[39m \u001b[38;5;124mr\u001b[39m\u001b[38;5;124m\"\u001b[39m\u001b[38;5;124mD:\u001b[39m\u001b[38;5;124m\\\u001b[39m\u001b[38;5;124m6TH SEMESTER\u001b[39m\u001b[38;5;124m\\\u001b[39m\u001b[38;5;124mminiProject\u001b[39m\u001b[38;5;124m\\\u001b[39m\u001b[38;5;124mpre_processed_amazon_electronics_scores.ipynb\u001b[39m\u001b[38;5;124m\"\u001b[39m\n\u001b[1;32m----> 6\u001b[0m \u001b[43mshutil\u001b[49m\u001b[38;5;241;43m.\u001b[39;49m\u001b[43mmove\u001b[49m\u001b[43m(\u001b[49m\u001b[43mold_path\u001b[49m\u001b[43m,\u001b[49m\u001b[43m \u001b[49m\u001b[43mnew_path\u001b[49m\u001b[43m)\u001b[49m\n\u001b[0;32m      7\u001b[0m \u001b[38;5;28mprint\u001b[39m(\u001b[38;5;124mf\u001b[39m\u001b[38;5;124m\"\u001b[39m\u001b[38;5;124mNotebook moved to \u001b[39m\u001b[38;5;132;01m{\u001b[39;00mnew_path\u001b[38;5;132;01m}\u001b[39;00m\u001b[38;5;124m\"\u001b[39m)\n",
      "File \u001b[1;32m~\\anaconda3\\lib\\shutil.py:836\u001b[0m, in \u001b[0;36mmove\u001b[1;34m(src, dst, copy_function)\u001b[0m\n\u001b[0;32m    834\u001b[0m         rmtree(src)\n\u001b[0;32m    835\u001b[0m     \u001b[38;5;28;01melse\u001b[39;00m:\n\u001b[1;32m--> 836\u001b[0m         \u001b[43mcopy_function\u001b[49m\u001b[43m(\u001b[49m\u001b[43msrc\u001b[49m\u001b[43m,\u001b[49m\u001b[43m \u001b[49m\u001b[43mreal_dst\u001b[49m\u001b[43m)\u001b[49m\n\u001b[0;32m    837\u001b[0m         os\u001b[38;5;241m.\u001b[39munlink(src)\n\u001b[0;32m    838\u001b[0m \u001b[38;5;28;01mreturn\u001b[39;00m real_dst\n",
      "File \u001b[1;32m~\\anaconda3\\lib\\shutil.py:434\u001b[0m, in \u001b[0;36mcopy2\u001b[1;34m(src, dst, follow_symlinks)\u001b[0m\n\u001b[0;32m    432\u001b[0m \u001b[38;5;28;01mif\u001b[39;00m os\u001b[38;5;241m.\u001b[39mpath\u001b[38;5;241m.\u001b[39misdir(dst):\n\u001b[0;32m    433\u001b[0m     dst \u001b[38;5;241m=\u001b[39m os\u001b[38;5;241m.\u001b[39mpath\u001b[38;5;241m.\u001b[39mjoin(dst, os\u001b[38;5;241m.\u001b[39mpath\u001b[38;5;241m.\u001b[39mbasename(src))\n\u001b[1;32m--> 434\u001b[0m \u001b[43mcopyfile\u001b[49m\u001b[43m(\u001b[49m\u001b[43msrc\u001b[49m\u001b[43m,\u001b[49m\u001b[43m \u001b[49m\u001b[43mdst\u001b[49m\u001b[43m,\u001b[49m\u001b[43m \u001b[49m\u001b[43mfollow_symlinks\u001b[49m\u001b[38;5;241;43m=\u001b[39;49m\u001b[43mfollow_symlinks\u001b[49m\u001b[43m)\u001b[49m\n\u001b[0;32m    435\u001b[0m copystat(src, dst, follow_symlinks\u001b[38;5;241m=\u001b[39mfollow_symlinks)\n\u001b[0;32m    436\u001b[0m \u001b[38;5;28;01mreturn\u001b[39;00m dst\n",
      "File \u001b[1;32m~\\anaconda3\\lib\\shutil.py:254\u001b[0m, in \u001b[0;36mcopyfile\u001b[1;34m(src, dst, follow_symlinks)\u001b[0m\n\u001b[0;32m    252\u001b[0m     os\u001b[38;5;241m.\u001b[39msymlink(os\u001b[38;5;241m.\u001b[39mreadlink(src), dst)\n\u001b[0;32m    253\u001b[0m \u001b[38;5;28;01melse\u001b[39;00m:\n\u001b[1;32m--> 254\u001b[0m     \u001b[38;5;28;01mwith\u001b[39;00m \u001b[38;5;28;43mopen\u001b[39;49m\u001b[43m(\u001b[49m\u001b[43msrc\u001b[49m\u001b[43m,\u001b[49m\u001b[43m \u001b[49m\u001b[38;5;124;43m'\u001b[39;49m\u001b[38;5;124;43mrb\u001b[39;49m\u001b[38;5;124;43m'\u001b[39;49m\u001b[43m)\u001b[49m \u001b[38;5;28;01mas\u001b[39;00m fsrc:\n\u001b[0;32m    255\u001b[0m         \u001b[38;5;28;01mtry\u001b[39;00m:\n\u001b[0;32m    256\u001b[0m             \u001b[38;5;28;01mwith\u001b[39;00m \u001b[38;5;28mopen\u001b[39m(dst, \u001b[38;5;124m'\u001b[39m\u001b[38;5;124mwb\u001b[39m\u001b[38;5;124m'\u001b[39m) \u001b[38;5;28;01mas\u001b[39;00m fdst:\n\u001b[0;32m    257\u001b[0m                 \u001b[38;5;66;03m# macOS\u001b[39;00m\n",
      "\u001b[1;31mFileNotFoundError\u001b[0m: [Errno 2] No such file or directory: 'pre_processed_amazon_electronics_scores.ipynb'"
     ]
    }
   ],
   "source": [
    "import shutil\n",
    "\n",
    "old_path = \"pre_processed_amazon_electronics_dataset.ipynb\"  \n",
    "new_path = r\"D:\\6TH SEMESTER\\miniProject\\pre_processed_amazon_electronics_dataset.ipynb\"\n",
    "\n",
    "shutil.move(old_path, new_path)\n",
    "print(f\"Notebook moved to {new_path}\")\n"
   ]
  },
  {
   "cell_type": "code",
   "execution_count": null,
   "id": "6b83dcb8",
   "metadata": {},
   "outputs": [],
   "source": []
  }
 ],
 "metadata": {
  "kernelspec": {
   "display_name": "Python 3 (ipykernel)",
   "language": "python",
   "name": "python3"
  },
  "language_info": {
   "codemirror_mode": {
    "name": "ipython",
    "version": 3
   },
   "file_extension": ".py",
   "mimetype": "text/x-python",
   "name": "python",
   "nbconvert_exporter": "python",
   "pygments_lexer": "ipython3",
   "version": "3.10.9"
  }
 },
 "nbformat": 4,
 "nbformat_minor": 5
}
