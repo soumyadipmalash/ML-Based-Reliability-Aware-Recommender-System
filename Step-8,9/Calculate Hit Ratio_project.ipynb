{
 "cells": [
  {
   "cell_type": "code",
   "execution_count": 1,
   "id": "8cb0b277-5c4e-4b30-a62e-dba31ae6d0fb",
   "metadata": {},
   "outputs": [
    {
     "name": "stdout",
     "output_type": "stream",
     "text": [
      "\n",
      "📌 Available columns:\n",
      "['User ID', 'Item ID', 'h_ij', 'd_ij', 'avg_score', 'review_rank', 'n_prime', 'z_ij', 'most_ij', 'sum_z', 'q_ij', 'sum_q', 'top_ij']\n",
      "\n",
      "🔍 Sample data:\n",
      "          User ID     Item ID      h_ij      d_ij  avg_score  review_rank  \\\n",
      "0   AO94DHGC771SJ  0528881469  0.000000  0.653309   0.156307            1   \n",
      "1   AMO214LNFCEI4  0528881469  0.163296  0.202288   0.211416            2   \n",
      "2  A3N7T0DY83Y4IG  0528881469  0.698923  0.089906   0.451825            3   \n",
      "3  A1H8PY3QHMQQA0  0528881469  0.137781  0.040832   0.141980            4   \n",
      "4  A24EV6RXELQZ63  0528881469  0.000000  0.013665   0.038471            5   \n",
      "\n",
      "   n_prime      z_ij   most_ij     sum_z      q_ij     sum_q    top_ij  \n",
      "0        5  1.000000  0.683242  1.463611  4.000000  6.416667  0.623377  \n",
      "1        5  0.250000  0.170810  1.463611  1.500000  6.416667  0.233766  \n",
      "2        5  0.111111  0.075916  1.463611  0.666667  6.416667  0.103896  \n",
      "3        5  0.062500  0.042703  1.463611  0.250000  6.416667  0.038961  \n",
      "4        5  0.040000  0.027330  1.463611  0.000000  6.416667  0.000000  \n",
      "\n",
      "✅ Hit Ratio @ 5: 0.8701\n",
      "\n",
      "📁 Saved processed file to: converted_recommendation_data.csv\n"
     ]
    }
   ],
   "source": [
    "import pandas as pd\n",
    "\n",
    "# === Step 1: Load CSV ===\n",
    "file_path = \"reliability_scores_matrics.csv\"\n",
    "df = pd.read_csv(file_path)\n",
    "\n",
    "# === Step 2: Check column names and preview ===\n",
    "print(\"\\n📌 Available columns:\")\n",
    "print(df.columns.tolist())\n",
    "print(\"\\n🔍 Sample data:\")\n",
    "print(df.head())\n",
    "\n",
    "# === Step 3: Define key columns ===\n",
    "USER_COL = 'User ID'\n",
    "ITEM_COL = 'Item ID'\n",
    "SCORE_COL = 'top_ij'  # Assumed as prediction confidence\n",
    "GROUND_TRUTH_COL = 'Item ID'  # Assuming current item is the ground truth\n",
    "\n",
    "# === Step 4: Get top-K predicted items per user ===\n",
    "k = 5\n",
    "predicted_df = (\n",
    "    df.sort_values(by=[USER_COL, SCORE_COL], ascending=[True, False])\n",
    "      .groupby(USER_COL)[ITEM_COL]\n",
    "      .apply(list)\n",
    "      .reset_index()\n",
    "      .rename(columns={ITEM_COL: 'predicted_items'})\n",
    ")\n",
    "\n",
    "# === Step 5: Merge to get true item back (assumes each user has 1 row with ground truth) ===\n",
    "ground_truth_df = df[[USER_COL, ITEM_COL]].drop_duplicates(subset=USER_COL)\n",
    "ground_truth_df = ground_truth_df.rename(columns={ITEM_COL: 'true_item'})\n",
    "\n",
    "# Merge ground truth with predictions\n",
    "merged_df = pd.merge(predicted_df, ground_truth_df, on=USER_COL)\n",
    "\n",
    "# === Step 6: Compute Hit Ratio @ K ===\n",
    "def hit_ratio_at_k(dataframe, k):\n",
    "    hits = 0\n",
    "    for _, row in dataframe.iterrows():\n",
    "        if row['true_item'] in row['predicted_items'][:k]:\n",
    "            hits += 1\n",
    "    return hits / len(dataframe)\n",
    "\n",
    "hr = hit_ratio_at_k(merged_df, k)\n",
    "print(f\"\\n✅ Hit Ratio @ {k}: {hr:.4f}\")\n",
    "\n",
    "# === Step 7: Save result to CSV ===\n",
    "output_path = \"converted_recommendation_data.csv\"\n",
    "merged_df.to_csv(output_path, index=False)\n",
    "print(f\"\\n📁 Saved processed file to: {output_path}\")\n"
   ]
  },
  {
   "cell_type": "code",
   "execution_count": null,
   "id": "8dad9c68-9866-40c2-a506-8b38e00c87e6",
   "metadata": {},
   "outputs": [],
   "source": []
  }
 ],
 "metadata": {
  "kernelspec": {
   "display_name": "Python 3 (ipykernel)",
   "language": "python",
   "name": "python3"
  },
  "language_info": {
   "codemirror_mode": {
    "name": "ipython",
    "version": 3
   },
   "file_extension": ".py",
   "mimetype": "text/x-python",
   "name": "python",
   "nbconvert_exporter": "python",
   "pygments_lexer": "ipython3",
   "version": "3.12.3"
  }
 },
 "nbformat": 4,
 "nbformat_minor": 5
}
